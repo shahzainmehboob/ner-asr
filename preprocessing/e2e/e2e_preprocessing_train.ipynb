{
 "cells": [
  {
   "cell_type": "code",
   "execution_count": 1,
   "metadata": {},
   "outputs": [],
   "source": [
    "%reload_ext autoreload\n",
    "%autoreload 2\n",
    "%matplotlib inline"
   ]
  },
  {
   "cell_type": "code",
   "execution_count": 2,
   "metadata": {},
   "outputs": [],
   "source": [
    "import pandas as pd\n",
    "pd.set_option('display.max_rows', 1000)\n",
    "import numpy as np\n",
    "import string\n",
    "import transformers\n",
    "from transformers import BertTokenizer, BertConfig\n",
    "from transformers import BertForTokenClassification, AdamW"
   ]
  },
  {
   "cell_type": "code",
   "execution_count": 3,
   "metadata": {},
   "outputs": [],
   "source": [
    "import glob\n",
    "import os\n",
    "asr = []\n",
    "for filename in glob.glob('/Volumes/SHAH/thesis/E2E/*.txt'):\n",
    "    with open(filename, 'r') as f:\n",
    "        x = f.readline()\n",
    "        if x == \"\":\n",
    "            continue\n",
    "        asr.append((filename.split(\"/\")[5], x))"
   ]
  },
  {
   "cell_type": "code",
   "execution_count": 4,
   "metadata": {},
   "outputs": [],
   "source": [
    "asr_df = pd.DataFrame(asr, columns=['File Name', 'Sentence'])"
   ]
  },
  {
   "cell_type": "code",
   "execution_count": 5,
   "metadata": {},
   "outputs": [
    {
     "data": {
      "text/html": [
       "<div>\n",
       "<style scoped>\n",
       "    .dataframe tbody tr th:only-of-type {\n",
       "        vertical-align: middle;\n",
       "    }\n",
       "\n",
       "    .dataframe tbody tr th {\n",
       "        vertical-align: top;\n",
       "    }\n",
       "\n",
       "    .dataframe thead th {\n",
       "        text-align: right;\n",
       "    }\n",
       "</style>\n",
       "<table border=\"1\" class=\"dataframe\">\n",
       "  <thead>\n",
       "    <tr style=\"text-align: right;\">\n",
       "      <th></th>\n",
       "      <th>File Name</th>\n",
       "      <th>Sentence</th>\n",
       "    </tr>\n",
       "  </thead>\n",
       "  <tbody>\n",
       "    <tr>\n",
       "      <th>0</th>\n",
       "      <td>DavidPogue_2008P_71.txt</td>\n",
       "      <td>photocopier</td>\n",
       "    </tr>\n",
       "    <tr>\n",
       "      <th>1</th>\n",
       "      <td>Diego-20131023-zpg_a0169.txt</td>\n",
       "      <td>stop for an instant</td>\n",
       "    </tr>\n",
       "    <tr>\n",
       "      <th>2</th>\n",
       "      <td>anonymous-20090122-aka_b0041.txt</td>\n",
       "      <td>but if you're did not return until tomorrow</td>\n",
       "    </tr>\n",
       "    <tr>\n",
       "      <th>3</th>\n",
       "      <td>cyteen-20130524-prw_a0250.txt</td>\n",
       "      <td>he said the business license Hawaii and develop</td>\n",
       "    </tr>\n",
       "    <tr>\n",
       "      <th>4</th>\n",
       "      <td>sample-108342.txt</td>\n",
       "      <td>around the corner</td>\n",
       "    </tr>\n",
       "    <tr>\n",
       "      <th>5</th>\n",
       "      <td>3092-39501-0009.txt</td>\n",
       "      <td>Scotland the 4th of the blows of the heaviest ...</td>\n",
       "    </tr>\n",
       "    <tr>\n",
       "      <th>6</th>\n",
       "      <td>6308-68359-0031.txt</td>\n",
       "      <td>find a trace of his body there must have been ...</td>\n",
       "    </tr>\n",
       "    <tr>\n",
       "      <th>7</th>\n",
       "      <td>JohnDelaney_2010Z_58.txt</td>\n",
       "      <td>information I need about everything</td>\n",
       "    </tr>\n",
       "    <tr>\n",
       "      <th>8</th>\n",
       "      <td>8643-269254-0009.txt</td>\n",
       "      <td>no attempt was made to compare 40 version with...</td>\n",
       "    </tr>\n",
       "    <tr>\n",
       "      <th>9</th>\n",
       "      <td>6281-65531-0002.txt</td>\n",
       "      <td>completely</td>\n",
       "    </tr>\n",
       "  </tbody>\n",
       "</table>\n",
       "</div>"
      ],
      "text/plain": [
       "                          File Name  \\\n",
       "0           DavidPogue_2008P_71.txt   \n",
       "1      Diego-20131023-zpg_a0169.txt   \n",
       "2  anonymous-20090122-aka_b0041.txt   \n",
       "3     cyteen-20130524-prw_a0250.txt   \n",
       "4                 sample-108342.txt   \n",
       "5               3092-39501-0009.txt   \n",
       "6               6308-68359-0031.txt   \n",
       "7          JohnDelaney_2010Z_58.txt   \n",
       "8              8643-269254-0009.txt   \n",
       "9               6281-65531-0002.txt   \n",
       "\n",
       "                                            Sentence  \n",
       "0                                        photocopier  \n",
       "1                                stop for an instant  \n",
       "2        but if you're did not return until tomorrow  \n",
       "3    he said the business license Hawaii and develop  \n",
       "4                                  around the corner  \n",
       "5  Scotland the 4th of the blows of the heaviest ...  \n",
       "6  find a trace of his body there must have been ...  \n",
       "7                information I need about everything  \n",
       "8  no attempt was made to compare 40 version with...  \n",
       "9                                         completely  "
      ]
     },
     "execution_count": 5,
     "metadata": {},
     "output_type": "execute_result"
    }
   ],
   "source": [
    "asr_df.head(10)"
   ]
  },
  {
   "cell_type": "code",
   "execution_count": 6,
   "metadata": {},
   "outputs": [
    {
     "data": {
      "text/plain": [
       "8589"
      ]
     },
     "execution_count": 6,
     "metadata": {},
     "output_type": "execute_result"
    }
   ],
   "source": [
    "len(asr_df)"
   ]
  },
  {
   "cell_type": "code",
   "execution_count": 7,
   "metadata": {},
   "outputs": [],
   "source": [
    "import glob\n",
    "import os\n",
    "original = []\n",
    "for filename in glob.glob('/Volumes/SHAH/thesis/txt/*.txt'):\n",
    "    with open(filename, 'r') as f:\n",
    "        x = f.readline()\n",
    "        if x == \"\":\n",
    "            continue\n",
    "        original.append((filename.split(\"/\")[5], x))"
   ]
  },
  {
   "cell_type": "code",
   "execution_count": 8,
   "metadata": {},
   "outputs": [],
   "source": [
    "original_df = pd.DataFrame(original, columns=['File Name', 'Sentence'])"
   ]
  },
  {
   "cell_type": "code",
   "execution_count": 9,
   "metadata": {},
   "outputs": [
    {
     "data": {
      "text/html": [
       "<div>\n",
       "<style scoped>\n",
       "    .dataframe tbody tr th:only-of-type {\n",
       "        vertical-align: middle;\n",
       "    }\n",
       "\n",
       "    .dataframe tbody tr th {\n",
       "        vertical-align: top;\n",
       "    }\n",
       "\n",
       "    .dataframe thead th {\n",
       "        text-align: right;\n",
       "    }\n",
       "</style>\n",
       "<table border=\"1\" class=\"dataframe\">\n",
       "  <thead>\n",
       "    <tr style=\"text-align: right;\">\n",
       "      <th></th>\n",
       "      <th>File Name</th>\n",
       "      <th>Sentence</th>\n",
       "    </tr>\n",
       "  </thead>\n",
       "  <tbody>\n",
       "    <tr>\n",
       "      <th>0</th>\n",
       "      <td>anonymous-20100809-adw_b0364.txt</td>\n",
       "      <td>IN THE BOHEMIAN CLUB OF $SAN FRANCISCO] THERE ...</td>\n",
       "    </tr>\n",
       "    <tr>\n",
       "      <th>1</th>\n",
       "      <td>Fandark-20100822-acy_b0007.txt</td>\n",
       "      <td>HEAR THE INDIAN DOGS WAILING DOWN AT $CHURCHILL]</td>\n",
       "    </tr>\n",
       "    <tr>\n",
       "      <th>2</th>\n",
       "      <td>7912-105669-0020.txt</td>\n",
       "      <td>HAD CORRECTED ONE CONSIDERABLE PART OF HIS EAR...</td>\n",
       "    </tr>\n",
       "    <tr>\n",
       "      <th>3</th>\n",
       "      <td>3063-138652-0046.txt</td>\n",
       "      <td>THEY LOOKED UP THE HOOK BY WHICH |BOB] HAD HEL...</td>\n",
       "    </tr>\n",
       "    <tr>\n",
       "      <th>4</th>\n",
       "      <td>sample-161064.txt</td>\n",
       "      <td>I'M AFRAID THE JOKE'S ON $US]</td>\n",
       "    </tr>\n",
       "  </tbody>\n",
       "</table>\n",
       "</div>"
      ],
      "text/plain": [
       "                          File Name  \\\n",
       "0  anonymous-20100809-adw_b0364.txt   \n",
       "1    Fandark-20100822-acy_b0007.txt   \n",
       "2              7912-105669-0020.txt   \n",
       "3              3063-138652-0046.txt   \n",
       "4                 sample-161064.txt   \n",
       "\n",
       "                                            Sentence  \n",
       "0  IN THE BOHEMIAN CLUB OF $SAN FRANCISCO] THERE ...  \n",
       "1   HEAR THE INDIAN DOGS WAILING DOWN AT $CHURCHILL]  \n",
       "2  HAD CORRECTED ONE CONSIDERABLE PART OF HIS EAR...  \n",
       "3  THEY LOOKED UP THE HOOK BY WHICH |BOB] HAD HEL...  \n",
       "4                      I'M AFRAID THE JOKE'S ON $US]  "
      ]
     },
     "execution_count": 9,
     "metadata": {},
     "output_type": "execute_result"
    }
   ],
   "source": [
    "original_df.head()"
   ]
  },
  {
   "cell_type": "code",
   "execution_count": 10,
   "metadata": {},
   "outputs": [],
   "source": [
    "original_dataset = []\n",
    "for file_name, sentence in original_df.values.tolist():\n",
    "    if file_name in asr_df['File Name'].values.tolist():\n",
    "        original_dataset.append((file_name, sentence))"
   ]
  },
  {
   "cell_type": "code",
   "execution_count": 11,
   "metadata": {},
   "outputs": [],
   "source": [
    "new_original_df = pd.DataFrame(original_dataset, columns=['File Name', 'Sentence'])"
   ]
  },
  {
   "cell_type": "code",
   "execution_count": 12,
   "metadata": {},
   "outputs": [
    {
     "data": {
      "text/html": [
       "<div>\n",
       "<style scoped>\n",
       "    .dataframe tbody tr th:only-of-type {\n",
       "        vertical-align: middle;\n",
       "    }\n",
       "\n",
       "    .dataframe tbody tr th {\n",
       "        vertical-align: top;\n",
       "    }\n",
       "\n",
       "    .dataframe thead th {\n",
       "        text-align: right;\n",
       "    }\n",
       "</style>\n",
       "<table border=\"1\" class=\"dataframe\">\n",
       "  <thead>\n",
       "    <tr style=\"text-align: right;\">\n",
       "      <th></th>\n",
       "      <th>File Name</th>\n",
       "      <th>Sentence</th>\n",
       "    </tr>\n",
       "  </thead>\n",
       "  <tbody>\n",
       "    <tr>\n",
       "      <th>0</th>\n",
       "      <td>knotyouraveragejo-20080426-adv_adv0186.txt</td>\n",
       "      <td>$BORON] AND $SILICON] ANOTHER POTASSIUM SODIUM...</td>\n",
       "    </tr>\n",
       "    <tr>\n",
       "      <th>1</th>\n",
       "      <td>uklebot-20090813-zxl_a0238.txt</td>\n",
       "      <td>IT HAPPENED TO HIM AT THE GALLINA SOCIETY IN $...</td>\n",
       "    </tr>\n",
       "    <tr>\n",
       "      <th>2</th>\n",
       "      <td>DanijelK-20100117-pbj_a0407.txt</td>\n",
       "      <td>{MERCEDES] SCREAMED CRIED LAUGHED AND MANIFEST...</td>\n",
       "    </tr>\n",
       "    <tr>\n",
       "      <th>3</th>\n",
       "      <td>3179-7153-0044.txt</td>\n",
       "      <td>|DIANA] AND |RUBY GILLIS] AND |JANE ANDREWS] A...</td>\n",
       "    </tr>\n",
       "    <tr>\n",
       "      <th>4</th>\n",
       "      <td>CKWilliams_2001_52.txt</td>\n",
       "      <td>MY STARTING TO FANCY SHE'D ENDED UP IN THIS FI...</td>\n",
       "    </tr>\n",
       "  </tbody>\n",
       "</table>\n",
       "</div>"
      ],
      "text/plain": [
       "                                    File Name  \\\n",
       "0  knotyouraveragejo-20080426-adv_adv0186.txt   \n",
       "1              uklebot-20090813-zxl_a0238.txt   \n",
       "2             DanijelK-20100117-pbj_a0407.txt   \n",
       "3                          3179-7153-0044.txt   \n",
       "4                      CKWilliams_2001_52.txt   \n",
       "\n",
       "                                            Sentence  \n",
       "0  $BORON] AND $SILICON] ANOTHER POTASSIUM SODIUM...  \n",
       "1  IT HAPPENED TO HIM AT THE GALLINA SOCIETY IN $...  \n",
       "2  {MERCEDES] SCREAMED CRIED LAUGHED AND MANIFEST...  \n",
       "3  |DIANA] AND |RUBY GILLIS] AND |JANE ANDREWS] A...  \n",
       "4  MY STARTING TO FANCY SHE'D ENDED UP IN THIS FI...  "
      ]
     },
     "execution_count": 12,
     "metadata": {},
     "output_type": "execute_result"
    }
   ],
   "source": [
    "new_original_df.head()"
   ]
  },
  {
   "cell_type": "code",
   "execution_count": 13,
   "metadata": {},
   "outputs": [],
   "source": [
    "asr_dataset = []\n",
    "for file_name, sentence in asr_df.values.tolist():\n",
    "    if file_name in new_original_df['File Name'].values.tolist():\n",
    "        asr_dataset.append((file_name, sentence))"
   ]
  },
  {
   "cell_type": "code",
   "execution_count": 14,
   "metadata": {},
   "outputs": [
    {
     "data": {
      "text/plain": [
       "2494"
      ]
     },
     "execution_count": 14,
     "metadata": {},
     "output_type": "execute_result"
    }
   ],
   "source": [
    "len(asr_dataset)"
   ]
  },
  {
   "cell_type": "code",
   "execution_count": 15,
   "metadata": {},
   "outputs": [],
   "source": [
    "new_asr_df = pd.DataFrame(asr_dataset, columns=['File Name', 'Sentence'])"
   ]
  },
  {
   "cell_type": "code",
   "execution_count": 16,
   "metadata": {},
   "outputs": [
    {
     "data": {
      "text/html": [
       "<div>\n",
       "<style scoped>\n",
       "    .dataframe tbody tr th:only-of-type {\n",
       "        vertical-align: middle;\n",
       "    }\n",
       "\n",
       "    .dataframe tbody tr th {\n",
       "        vertical-align: top;\n",
       "    }\n",
       "\n",
       "    .dataframe thead th {\n",
       "        text-align: right;\n",
       "    }\n",
       "</style>\n",
       "<table border=\"1\" class=\"dataframe\">\n",
       "  <thead>\n",
       "    <tr style=\"text-align: right;\">\n",
       "      <th></th>\n",
       "      <th>File Name</th>\n",
       "      <th>Sentence</th>\n",
       "    </tr>\n",
       "  </thead>\n",
       "  <tbody>\n",
       "    <tr>\n",
       "      <th>0</th>\n",
       "      <td>DavidPogue_2008P_71.txt</td>\n",
       "      <td>photocopier</td>\n",
       "    </tr>\n",
       "    <tr>\n",
       "      <th>1</th>\n",
       "      <td>Diego-20131023-zpg_a0169.txt</td>\n",
       "      <td>stop for an instant</td>\n",
       "    </tr>\n",
       "    <tr>\n",
       "      <th>2</th>\n",
       "      <td>anonymous-20090122-aka_b0041.txt</td>\n",
       "      <td>but if you're did not return until tomorrow</td>\n",
       "    </tr>\n",
       "    <tr>\n",
       "      <th>3</th>\n",
       "      <td>cyteen-20130524-prw_a0250.txt</td>\n",
       "      <td>he said the business license Hawaii and develop</td>\n",
       "    </tr>\n",
       "    <tr>\n",
       "      <th>4</th>\n",
       "      <td>sample-108342.txt</td>\n",
       "      <td>around the corner</td>\n",
       "    </tr>\n",
       "  </tbody>\n",
       "</table>\n",
       "</div>"
      ],
      "text/plain": [
       "                          File Name  \\\n",
       "0           DavidPogue_2008P_71.txt   \n",
       "1      Diego-20131023-zpg_a0169.txt   \n",
       "2  anonymous-20090122-aka_b0041.txt   \n",
       "3     cyteen-20130524-prw_a0250.txt   \n",
       "4                 sample-108342.txt   \n",
       "\n",
       "                                          Sentence  \n",
       "0                                      photocopier  \n",
       "1                              stop for an instant  \n",
       "2      but if you're did not return until tomorrow  \n",
       "3  he said the business license Hawaii and develop  \n",
       "4                                around the corner  "
      ]
     },
     "execution_count": 16,
     "metadata": {},
     "output_type": "execute_result"
    }
   ],
   "source": [
    "new_asr_df.head()"
   ]
  },
  {
   "cell_type": "code",
   "execution_count": 23,
   "metadata": {},
   "outputs": [],
   "source": [
    "new_asr_df.sort_values('File Name', ignore_index=True, inplace=True)\n",
    "new_asr_df['Sentence #'] = new_asr_df.index"
   ]
  },
  {
   "cell_type": "code",
   "execution_count": 24,
   "metadata": {},
   "outputs": [],
   "source": [
    "new_original_df.sort_values('File Name', ignore_index=True, inplace=True)\n",
    "new_original_df['Sentence #'] = new_original_df.index"
   ]
  },
  {
   "cell_type": "code",
   "execution_count": 21,
   "metadata": {},
   "outputs": [],
   "source": [
    "new_asr_df.to_csv(\"../../data/e2e_asr_preprocessed.csv\",index=False)"
   ]
  },
  {
   "cell_type": "code",
   "execution_count": 22,
   "metadata": {},
   "outputs": [],
   "source": [
    "new_original_df.to_csv(\"../../data/e2e_original_preprocessed.csv\",index=False)"
   ]
  },
  {
   "cell_type": "code",
   "execution_count": 26,
   "metadata": {},
   "outputs": [
    {
     "data": {
      "text/plain": [
       "'THE FLASHING AND GOLDEN PAGEANT OF $CALIFORNIA] THE SUDDEN AND GORGEOUS DRAMA THE SUNNY AND AMPLE LANDS THE LONG AND VARIED STRETCH FROM $PUGET SOUND] TO $COLORADO SOUTH]'"
      ]
     },
     "execution_count": 26,
     "metadata": {},
     "output_type": "execute_result"
    }
   ],
   "source": [
    "new_original_df['Sentence'].values.tolist()[0]"
   ]
  },
  {
   "cell_type": "code",
   "execution_count": null,
   "metadata": {},
   "outputs": [],
   "source": [
    "def find_between_r( s, first, last ):\n",
    "    try:\n",
    "        start = s.rindex( first ) + len( first )\n",
    "        end = s.rindex( last, start )\n",
    "        return s[start:end]\n",
    "    except ValueError:\n",
    "        return \"\""
   ]
  },
  {
   "cell_type": "code",
   "execution_count": 51,
   "metadata": {},
   "outputs": [
    {
     "name": "stdout",
     "output_type": "stream",
     "text": [
      "COLORADO SOUTH\n"
     ]
    }
   ],
   "source": [
    "labels = []\n",
    "tokens = []\n",
    "for sentence in new_original_df['Sentence'].values.tolist():\n",
    "    x = []\n",
    "    y = []\n",
    "    #print(find_between_r(sentence, \"$\", \"]\"))\n",
    "    \n",
    "    break"
   ]
  },
  {
   "cell_type": "code",
   "execution_count": 74,
   "metadata": {},
   "outputs": [],
   "source": [
    "labels = []\n",
    "tokens = []\n",
    "dataset = []\n",
    "sentence_no = 0\n",
    "for sentence in new_original_df['Sentence'].values.tolist():\n",
    "    x = []\n",
    "    y = []\n",
    "    loc = False\n",
    "    org = False\n",
    "    per = False\n",
    "    for word in sentence.split():\n",
    "        if \"$\" in word:\n",
    "            if \"]\" in word:\n",
    "                x.append(word[1:len(word)-1])\n",
    "                y.append(\"LOC\")\n",
    "            else:\n",
    "                x.append(word[1:len(word)])\n",
    "                y.append(\"LOC\")\n",
    "                loc = True\n",
    "                continue\n",
    "        elif \"{\" in word:\n",
    "            if \"]\" in word:\n",
    "                x.append(word[1:len(word)-1])\n",
    "                y.append(\"ORG\")\n",
    "            else:\n",
    "                x.append(word[1:len(word)])\n",
    "                y.append(\"ORG\")\n",
    "                org = True\n",
    "                continue\n",
    "        elif \"|\" in word:\n",
    "            if \"]\" in word:\n",
    "                x.append(word[1:len(word)-1])\n",
    "                y.append(\"PER\")\n",
    "            else:\n",
    "                x.append(word[1:len(word)])\n",
    "                y.append(\"PER\")\n",
    "                per = True\n",
    "                continue\n",
    "        else:\n",
    "            if loc:\n",
    "                x.append(word[0:len(word) - 1])\n",
    "                y.append(\"LOC\")\n",
    "                loc = False\n",
    "                continue\n",
    "            if org:\n",
    "                x.append(word[0:len(word) - 1])\n",
    "                y.append(\"ORG\")\n",
    "                org = False\n",
    "                continue\n",
    "            if per:\n",
    "                x.append(word[0:len(word) - 1])\n",
    "                y.append(\"PER\")\n",
    "                per = False\n",
    "                continue\n",
    "            x.append(word)\n",
    "            y.append(\"O\")\n",
    "    for token, label in zip(x,y):\n",
    "        dataset.append((sentence_no, token, label))\n",
    "    tokens.append(\" \".join(x))\n",
    "    labels.append(\",\".join(y))\n",
    "    sentence_no = sentence_no + 1"
   ]
  },
  {
   "cell_type": "code",
   "execution_count": 76,
   "metadata": {},
   "outputs": [
    {
     "data": {
      "text/html": [
       "<div>\n",
       "<style scoped>\n",
       "    .dataframe tbody tr th:only-of-type {\n",
       "        vertical-align: middle;\n",
       "    }\n",
       "\n",
       "    .dataframe tbody tr th {\n",
       "        vertical-align: top;\n",
       "    }\n",
       "\n",
       "    .dataframe thead th {\n",
       "        text-align: right;\n",
       "    }\n",
       "</style>\n",
       "<table border=\"1\" class=\"dataframe\">\n",
       "  <thead>\n",
       "    <tr style=\"text-align: right;\">\n",
       "      <th></th>\n",
       "      <th>Sentence #</th>\n",
       "      <th>Word</th>\n",
       "      <th>Tag</th>\n",
       "    </tr>\n",
       "  </thead>\n",
       "  <tbody>\n",
       "    <tr>\n",
       "      <th>0</th>\n",
       "      <td>0</td>\n",
       "      <td>THE</td>\n",
       "      <td>O</td>\n",
       "    </tr>\n",
       "    <tr>\n",
       "      <th>1</th>\n",
       "      <td>0</td>\n",
       "      <td>FLASHING</td>\n",
       "      <td>O</td>\n",
       "    </tr>\n",
       "    <tr>\n",
       "      <th>2</th>\n",
       "      <td>0</td>\n",
       "      <td>AND</td>\n",
       "      <td>O</td>\n",
       "    </tr>\n",
       "    <tr>\n",
       "      <th>3</th>\n",
       "      <td>0</td>\n",
       "      <td>GOLDEN</td>\n",
       "      <td>O</td>\n",
       "    </tr>\n",
       "    <tr>\n",
       "      <th>4</th>\n",
       "      <td>0</td>\n",
       "      <td>PAGEANT</td>\n",
       "      <td>O</td>\n",
       "    </tr>\n",
       "  </tbody>\n",
       "</table>\n",
       "</div>"
      ],
      "text/plain": [
       "   Sentence #      Word Tag\n",
       "0           0       THE   O\n",
       "1           0  FLASHING   O\n",
       "2           0       AND   O\n",
       "3           0    GOLDEN   O\n",
       "4           0   PAGEANT   O"
      ]
     },
     "execution_count": 76,
     "metadata": {},
     "output_type": "execute_result"
    }
   ],
   "source": [
    "new_df = pd.DataFrame(dataset, columns=['Sentence #', 'Word', 'Tag'])\n",
    "new_df.head()"
   ]
  },
  {
   "cell_type": "code",
   "execution_count": 77,
   "metadata": {},
   "outputs": [],
   "source": [
    "new_df.to_csv(\"../../data/e2e_original_preprocessed_with_labels.csv\",index=False)"
   ]
  },
  {
   "cell_type": "code",
   "execution_count": null,
   "metadata": {},
   "outputs": [],
   "source": []
  }
 ],
 "metadata": {
  "kernelspec": {
   "display_name": "Python 3",
   "language": "python",
   "name": "python3"
  },
  "language_info": {
   "codemirror_mode": {
    "name": "ipython",
    "version": 3
   },
   "file_extension": ".py",
   "mimetype": "text/x-python",
   "name": "python",
   "nbconvert_exporter": "python",
   "pygments_lexer": "ipython3",
   "version": "3.9.1"
  }
 },
 "nbformat": 4,
 "nbformat_minor": 2
}
